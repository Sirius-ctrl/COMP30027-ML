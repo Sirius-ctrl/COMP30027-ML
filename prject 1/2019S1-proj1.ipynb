{
 "cells": [
  {
   "cell_type": "markdown",
   "metadata": {},
   "source": [
    "# The University of Melbourne, School of Computing and Information Systems\n",
    "# COMP30027 Machine Learning, 2019 Semester 1\n",
    "-----\n",
    "## Project 1: Gaining Information about Naive Bayes\n",
    "-----\n",
    "###### Student Name(s): Xinyao Niu\n",
    "###### Python version: 3.6.8\n",
    "###### Submission deadline: 1pm, Fri 5 Apr 2019"
   ]
  },
  {
   "cell_type": "markdown",
   "metadata": {},
   "source": [
    "This iPython notebook is a template which you may use for your Project 1 submission. (You are not required to use it; in particular, there is no need to use iPython if you do not like it.)\n",
    "\n",
    "Marking will be applied on the five functions that are defined in this notebook, and to your responses to the questions at the end of this notebook.\n",
    "\n",
    "You may change the prototypes of these functions, and you may write other functions, according to your requirements. We would appreciate it if the required functions were prominent/easy to find. "
   ]
  },
  {
   "cell_type": "code",
   "execution_count": 1,
   "metadata": {},
   "outputs": [],
   "source": [
    "import numpy as np\n",
    "import matplotlib.pyplot as plt\n",
    "import os\n",
    "from os.path import join\n",
    "import subprocess\n",
    "import pandas as pd\n",
    "from collections import defaultdict as dd"
   ]
  },
  {
   "cell_type": "code",
   "execution_count": 2,
   "metadata": {},
   "outputs": [],
   "source": [
    "def bash_call(c:'[str]') -> 'null':\n",
    "    res = subprocess.check_output(c)\n",
    "    for line in res.splitlines():\n",
    "        print(line.decode('utf-8'))"
   ]
  },
  {
   "cell_type": "code",
   "execution_count": 3,
   "metadata": {},
   "outputs": [
    {
     "name": "stdout",
     "output_type": "stream",
     "text": [
      "README.txt\n",
      "anneal.csv\n",
      "breast-cancer.csv\n",
      "car.csv\n",
      "cmc.csv\n",
      "headers.txt\n",
      "hepatitis.csv\n",
      "hypothyroid.csv\n",
      "mushroom.csv\n",
      "nursery.csv\n",
      "primary-tumor.csv\n"
     ]
    }
   ],
   "source": [
    "datapath = join(os.getcwd(),'2019S1-proj1-data')\n",
    "bash_call(['ls', datapath])"
   ]
  },
  {
   "cell_type": "code",
   "execution_count": 4,
   "metadata": {},
   "outputs": [
    {
     "data": {
      "text/plain": [
       "'/Users/xinyaoniu/Documents/COMP30027-ML/prject 1/2019S1-proj1-data'"
      ]
     },
     "execution_count": 4,
     "metadata": {},
     "output_type": "execute_result"
    }
   ],
   "source": [
    "datapath"
   ]
  },
  {
   "cell_type": "code",
   "execution_count": 216,
   "metadata": {},
   "outputs": [],
   "source": [
    "class naive_bayes_learner():\n",
    "    \n",
    "    def __init__(self, path:str):\n",
    "        self.path = path\n",
    "        self.df = None\n",
    "        self.labels = set\n",
    "        self.prob = []\n",
    "        \n",
    "        self.train = None\n",
    "        self.evl = None\n",
    "        self.test = None\n",
    "        \n",
    "    # This function should open a data file in csv, and transform it into a usable format \n",
    "    def preprocess(self) -> None:\n",
    "        self.df = pd.read_csv(self.path, header=None)\n",
    "        self.labels = set(self.df[self.df.shape[1]-1])\n",
    "        # labels location\n",
    "        last = self.df.shape[1] - 1\n",
    "        # iterate over col\n",
    "        for i in range(self.df.shape[1]):\n",
    "            stats = self.count_frequency(self.df[[i,last]])\n",
    "            self.prob.append(stats)\n",
    "    \n",
    "    # count the frequency for each different values in an array\n",
    "    def count_frequency(self, df:pd.DataFrame ,accumulate:dict={}) -> dd:\n",
    "        res = dd(lambda:0,accumulate)\n",
    "        index = df.columns\n",
    "        same = False\n",
    "        \n",
    "        # rename the index if they are the same\n",
    "        if index[0] == index[1]:\n",
    "            index = ['one', 'two']\n",
    "            df.columns = ('one','two')\n",
    "            same = True\n",
    "            \n",
    "            \n",
    "        for i in range(df.shape[0]):\n",
    "            feature = df[index[0]].loc[i]\n",
    "            label = df[index[1]].loc[i]\n",
    "            if same:\n",
    "                res[str(label)] += 1\n",
    "            elif str(feature) == '?': #ignore the missing value\n",
    "                #print(str(feature)+'|'+ str(label))\n",
    "                pass\n",
    "            else:\n",
    "                res[str(feature)+'|'+ str(label)] += 1\n",
    "        return res\n",
    "    \n",
    "    # This function should build a supervised NB model\n",
    "    def train(self) -> None:\n",
    "        pass"
   ]
  },
  {
   "cell_type": "code",
   "execution_count": 217,
   "metadata": {},
   "outputs": [],
   "source": [
    "test = naive_bayes_learner(join(datapath, 'breast-cancer.csv'))"
   ]
  },
  {
   "cell_type": "code",
   "execution_count": 218,
   "metadata": {},
   "outputs": [],
   "source": [
    "test.preprocess()"
   ]
  },
  {
   "cell_type": "code",
   "execution_count": 219,
   "metadata": {},
   "outputs": [
    {
     "data": {
      "text/plain": [
       "[defaultdict(<function __main__.naive_bayes_learner.count_frequency.<locals>.<lambda>()>,\n",
       "             {'40-49|recurrence-events': 27,\n",
       "              '50-59|no-recurrence-events': 71,\n",
       "              '50-59|recurrence-events': 25,\n",
       "              '40-49|no-recurrence-events': 63,\n",
       "              '60-69|no-recurrence-events': 40,\n",
       "              '30-39|no-recurrence-events': 21,\n",
       "              '30-39|recurrence-events': 15,\n",
       "              '60-69|recurrence-events': 17,\n",
       "              '70-79|recurrence-events': 1,\n",
       "              '70-79|no-recurrence-events': 5,\n",
       "              '20-29|no-recurrence-events': 1}),\n",
       " defaultdict(<function __main__.naive_bayes_learner.count_frequency.<locals>.<lambda>()>,\n",
       "             {'premeno|recurrence-events': 48,\n",
       "              'ge40|no-recurrence-events': 94,\n",
       "              'ge40|recurrence-events': 35,\n",
       "              'premeno|no-recurrence-events': 102,\n",
       "              'lt40|recurrence-events': 2,\n",
       "              'lt40|no-recurrence-events': 5}),\n",
       " defaultdict(<function __main__.naive_bayes_learner.count_frequency.<locals>.<lambda>()>,\n",
       "             {'15-19|recurrence-events': 7,\n",
       "              '15-19|no-recurrence-events': 23,\n",
       "              '35-39|recurrence-events': 7,\n",
       "              '35-39|no-recurrence-events': 12,\n",
       "              '30-34|recurrence-events': 25,\n",
       "              '25-29|no-recurrence-events': 36,\n",
       "              '40-44|no-recurrence-events': 16,\n",
       "              '10-14|no-recurrence-events': 27,\n",
       "              '0-4|no-recurrence-events': 7,\n",
       "              '30-34|no-recurrence-events': 35,\n",
       "              '25-29|recurrence-events': 18,\n",
       "              '20-24|no-recurrence-events': 34,\n",
       "              '20-24|recurrence-events': 16,\n",
       "              '45-49|no-recurrence-events': 2,\n",
       "              '50-54|no-recurrence-events': 5,\n",
       "              '0-4|recurrence-events': 1,\n",
       "              '40-44|recurrence-events': 6,\n",
       "              '50-54|recurrence-events': 3,\n",
       "              '5-9|no-recurrence-events': 4,\n",
       "              '10-14|recurrence-events': 1,\n",
       "              '45-49|recurrence-events': 1}),\n",
       " defaultdict(<function __main__.naive_bayes_learner.count_frequency.<locals>.<lambda>()>,\n",
       "             {'0-2|recurrence-events': 46,\n",
       "              '0-2|no-recurrence-events': 167,\n",
       "              '3-5|recurrence-events': 17,\n",
       "              '3-5|no-recurrence-events': 19,\n",
       "              '15-17|no-recurrence-events': 3,\n",
       "              '6-8|recurrence-events': 10,\n",
       "              '15-17|recurrence-events': 3,\n",
       "              '6-8|no-recurrence-events': 7,\n",
       "              '9-11|no-recurrence-events': 4,\n",
       "              '9-11|recurrence-events': 6,\n",
       "              '24-26|recurrence-events': 1,\n",
       "              '12-14|no-recurrence-events': 1,\n",
       "              '12-14|recurrence-events': 2}),\n",
       " defaultdict(<function __main__.naive_bayes_learner.count_frequency.<locals>.<lambda>()>,\n",
       "             {'yes|recurrence-events': 31,\n",
       "              'no|no-recurrence-events': 171,\n",
       "              'no|recurrence-events': 51,\n",
       "              'yes|no-recurrence-events': 25}),\n",
       " defaultdict(<function __main__.naive_bayes_learner.count_frequency.<locals>.<lambda>()>,\n",
       "             {'3|recurrence-events': 45,\n",
       "              '1|no-recurrence-events': 59,\n",
       "              '2|recurrence-events': 28,\n",
       "              '3|no-recurrence-events': 40,\n",
       "              '2|no-recurrence-events': 102,\n",
       "              '1|recurrence-events': 12}),\n",
       " defaultdict(<function __main__.naive_bayes_learner.count_frequency.<locals>.<lambda>()>,\n",
       "             {'right|recurrence-events': 36,\n",
       "              'right|no-recurrence-events': 98,\n",
       "              'left|recurrence-events': 49,\n",
       "              'left|no-recurrence-events': 103}),\n",
       " defaultdict(<function __main__.naive_bayes_learner.count_frequency.<locals>.<lambda>()>,\n",
       "             {'left_up|recurrence-events': 26,\n",
       "              'central|no-recurrence-events': 17,\n",
       "              'left_low|recurrence-events': 35,\n",
       "              'left_low|no-recurrence-events': 75,\n",
       "              'right_up|recurrence-events': 13,\n",
       "              'left_up|no-recurrence-events': 71,\n",
       "              'right_low|no-recurrence-events': 18,\n",
       "              'central|recurrence-events': 4,\n",
       "              'right_up|no-recurrence-events': 20,\n",
       "              'right_low|recurrence-events': 6}),\n",
       " defaultdict(<function __main__.naive_bayes_learner.count_frequency.<locals>.<lambda>()>,\n",
       "             {'no|recurrence-events': 54,\n",
       "              'no|no-recurrence-events': 164,\n",
       "              'yes|no-recurrence-events': 37,\n",
       "              'yes|recurrence-events': 31}),\n",
       " defaultdict(<function __main__.naive_bayes_learner.count_frequency.<locals>.<lambda>()>,\n",
       "             {'recurrence-events': 85, 'no-recurrence-events': 201})]"
      ]
     },
     "execution_count": 219,
     "metadata": {},
     "output_type": "execute_result"
    }
   ],
   "source": [
    "test.prob"
   ]
  },
  {
   "cell_type": "code",
   "execution_count": null,
   "metadata": {},
   "outputs": [],
   "source": [
    "have = bayes_learner(join(root, 'breast-cancer.csv'))"
   ]
  },
  {
   "cell_type": "code",
   "execution_count": null,
   "metadata": {},
   "outputs": [],
   "source": [
    "# This function should build a supervised NB model\n",
    "def train(data:'DataFrame') -> None:\n",
    "    count = []"
   ]
  },
  {
   "cell_type": "code",
   "execution_count": null,
   "metadata": {},
   "outputs": [],
   "source": [
    "# This function should predict the class for an instance or a set of instances, based on a trained model \n",
    "def predict():\n",
    "    return"
   ]
  },
  {
   "cell_type": "code",
   "execution_count": null,
   "metadata": {},
   "outputs": [],
   "source": [
    "# This function should evaluate a set of predictions, in a supervised context \n",
    "def evaluate():\n",
    "    return"
   ]
  },
  {
   "cell_type": "code",
   "execution_count": null,
   "metadata": {},
   "outputs": [],
   "source": [
    "# This function should calculate the Information Gain of an attribute or a set of attribute, with respect to the class\n",
    "def info_gain():\n",
    "    return"
   ]
  },
  {
   "cell_type": "markdown",
   "metadata": {},
   "source": [
    "Questions (you may respond in a cell or cells below):\n",
    "\n",
    "1. The Naive Bayes classifiers can be seen to vary, in terms of their effectiveness on the given datasets (e.g. in terms of Accuracy). Consider the Information Gain of each attribute, relative to the class distribution — does this help to explain the classifiers’ behaviour? Identify any results that are particularly surprising, and explain why they occur.\n",
    "2. The Information Gain can be seen as a kind of correlation coefficient between a pair of attributes: when the gain is low, the attribute values are uncorrelated; when the gain is high, the attribute values are correlated. In supervised ML, we typically calculate the Infomation Gain between a single attribute and the class, but it can be calculated for any pair of attributes. Using the pair-wise IG as a proxy for attribute interdependence, in which cases are our NB assumptions violated? Describe any evidence (or indeed, lack of evidence) that this is has some effect on the effectiveness of the NB classifier.\n",
    "3. Since we have gone to all of the effort of calculating Infomation Gain, we might as well use that as a criterion for building a “Decision Stump” (1-R classifier). How does the effectiveness of this classifier compare to Naive Bayes? Identify one or more cases where the effectiveness is notably different, and explain why.\n",
    "4. Evaluating the model on the same data that we use to train the model is considered to be a major mistake in Machine Learning. Implement a hold–out or cross–validation evaluation strategy. How does your estimate of effectiveness change, compared to testing on the training data? Explain why. (The result might surprise you!)\n",
    "5. Implement one of the advanced smoothing regimes (add-k, Good-Turing). Does changing the smoothing regime (or indeed, not smoothing at all) affect the effectiveness of the Naive Bayes classifier? Explain why, or why not.\n",
    "6. Naive Bayes is said to elegantly handle missing attribute values. For the datasets with missing values, is there any evidence that the performance is different on the instances with missing values, compared to the instances where all of the values are present? Does it matter which, or how many values are missing? Would a imputation strategy have any effect on this?\n",
    "\n",
    "Don't forget that groups of 1 student should respond to question (1), and one other question of your choosing. Groups of 2 students should respond to question (1) and question (2), and two other questions of your choosing. Your responses should be about 150-250 words each."
   ]
  },
  {
   "cell_type": "code",
   "execution_count": null,
   "metadata": {},
   "outputs": [],
   "source": []
  }
 ],
 "metadata": {
  "kernelspec": {
   "display_name": "Python 3",
   "language": "python",
   "name": "python3"
  },
  "language_info": {
   "codemirror_mode": {
    "name": "ipython",
    "version": 3
   },
   "file_extension": ".py",
   "mimetype": "text/x-python",
   "name": "python",
   "nbconvert_exporter": "python",
   "pygments_lexer": "ipython3",
   "version": "3.6.8"
  }
 },
 "nbformat": 4,
 "nbformat_minor": 2
}

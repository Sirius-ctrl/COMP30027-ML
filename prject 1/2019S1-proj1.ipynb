{
 "cells": [
  {
   "cell_type": "markdown",
   "metadata": {},
   "source": [
    "# The University of Melbourne, School of Computing and Information Systems\n",
    "# COMP30027 Machine Learning, 2019 Semester 1\n",
    "-----\n",
    "## Project 1: Gaining Information about Naive Bayes\n",
    "-----\n",
    "###### Student Name(s): Xinyao Niu\n",
    "###### Python version: 3.6.8\n",
    "###### Submission deadline: 1pm, Fri 5 Apr 2019"
   ]
  },
  {
   "cell_type": "markdown",
   "metadata": {},
   "source": [
    "This iPython notebook is a template which you may use for your Project 1 submission. (You are not required to use it; in particular, there is no need to use iPython if you do not like it.)\n",
    "\n",
    "Marking will be applied on the five functions that are defined in this notebook, and to your responses to the questions at the end of this notebook.\n",
    "\n",
    "You may change the prototypes of these functions, and you may write other functions, according to your requirements. We would appreciate it if the required functions were prominent/easy to find. "
   ]
  },
  {
   "cell_type": "code",
   "execution_count": 1,
   "metadata": {},
   "outputs": [],
   "source": [
    "import numpy as np\n",
    "import matplotlib.pyplot as plt\n",
    "import os\n",
    "from os.path import join\n",
    "import subprocess\n",
    "import pandas as pd\n",
    "from collections import defaultdict as dd"
   ]
  },
  {
   "cell_type": "code",
   "execution_count": 2,
   "metadata": {},
   "outputs": [],
   "source": [
    "def bash_call(c:'[str]') -> 'null':\n",
    "    res = subprocess.check_output(c)\n",
    "    for line in res.splitlines():\n",
    "        print(line.decode('utf-8'))"
   ]
  },
  {
   "cell_type": "code",
   "execution_count": 3,
   "metadata": {},
   "outputs": [
    {
     "name": "stdout",
     "output_type": "stream",
     "text": [
      "README.txt\n",
      "anneal.csv\n",
      "breast-cancer.csv\n",
      "car.csv\n",
      "cmc.csv\n",
      "headers.txt\n",
      "hepatitis.csv\n",
      "hypothyroid.csv\n",
      "mushroom.csv\n",
      "nursery.csv\n",
      "primary-tumor.csv\n"
     ]
    }
   ],
   "source": [
    "datapath = join(os.getcwd(),'2019S1-proj1-data')\n",
    "bash_call(['ls', datapath])"
   ]
  },
  {
   "cell_type": "code",
   "execution_count": 4,
   "metadata": {},
   "outputs": [
    {
     "data": {
      "text/plain": [
       "'/Users/xinyaoniu/Documents/COMP30027-ML/prject 1/2019S1-proj1-data'"
      ]
     },
     "execution_count": 4,
     "metadata": {},
     "output_type": "execute_result"
    }
   ],
   "source": [
    "datapath"
   ]
  },
  {
   "cell_type": "code",
   "execution_count": 202,
   "metadata": {},
   "outputs": [],
   "source": [
    "class naive_bayes_learner():\n",
    "    \n",
    "    def __init__(self, path:str):\n",
    "        self.path = path\n",
    "        self.df = None\n",
    "        self.labels = set\n",
    "        self.prob = []\n",
    "        \n",
    "        self.train = None\n",
    "        self.evl = None\n",
    "        self.test = None\n",
    "        \n",
    "    # This function should open a data file in csv, and transform it into a usable format \n",
    "    def preprocess(self) -> None:\n",
    "        self.df = pd.read_csv(self.path, header=None)\n",
    "        self.labels = set(self.df[self.df.shape[1]-1])\n",
    "        # labels location\n",
    "        last = self.df.shape[1] - 1\n",
    "        # iterate over col\n",
    "        for i in range(self.df.shape[1]):\n",
    "            stats = self.count_frequency(self.df[[i,last]])\n",
    "            print(type(stats))\n",
    "            self.prob.append(stats)\n",
    "        print(len(self.prob))\n",
    "    \n",
    "    # count the frequency for each different values in an array\n",
    "    def count_frequency(self, df:pd.DataFrame ,accumulate:dict={}) -> dd:\n",
    "        res = dd(lambda:0,accumulate)\n",
    "        index = df.columns\n",
    "        \n",
    "        # rename the index if they are the same\n",
    "        if index[0] == index[1]:\n",
    "            index = ['one', 'two']\n",
    "            df.columns = ('one','two')\n",
    "            \n",
    "        for i in range(df.shape[0]):\n",
    "            res[str(df[index[0]].loc[i]) + '|' + str(df[index[1]].loc[i])] += 1\n",
    "        return res\n",
    "    \n",
    "    # This function should build a supervised NB model\n",
    "    def train(self) -> None:\n",
    "        pass"
   ]
  },
  {
   "cell_type": "code",
   "execution_count": 203,
   "metadata": {},
   "outputs": [],
   "source": [
    "test = naive_bayes_learner(join(datapath, 'breast-cancer.csv'))"
   ]
  },
  {
   "cell_type": "code",
   "execution_count": 204,
   "metadata": {},
   "outputs": [
    {
     "name": "stdout",
     "output_type": "stream",
     "text": [
      "<class 'collections.defaultdict'>\n",
      "<class 'collections.defaultdict'>\n",
      "<class 'collections.defaultdict'>\n",
      "<class 'collections.defaultdict'>\n",
      "<class 'collections.defaultdict'>\n",
      "<class 'collections.defaultdict'>\n",
      "<class 'collections.defaultdict'>\n",
      "<class 'collections.defaultdict'>\n",
      "<class 'collections.defaultdict'>\n",
      "<class 'collections.defaultdict'>\n",
      "10\n"
     ]
    }
   ],
   "source": [
    "test.preprocess()"
   ]
  },
  {
   "cell_type": "code",
   "execution_count": 205,
   "metadata": {},
   "outputs": [
    {
     "data": {
      "text/plain": [
       "defaultdict(<function __main__.naive_bayes_learner.count_frequency.<locals>.<lambda>()>,\n",
       "            {'recurrence-events|recurrence-events': 85,\n",
       "             'no-recurrence-events|no-recurrence-events': 201})"
      ]
     },
     "execution_count": 205,
     "metadata": {},
     "output_type": "execute_result"
    }
   ],
   "source": [
    "test.prob[-1]"
   ]
  },
  {
   "cell_type": "code",
   "execution_count": null,
   "metadata": {},
   "outputs": [],
   "source": [
    "have = bayes_learner(join(root, 'breast-cancer.csv'))"
   ]
  },
  {
   "cell_type": "code",
   "execution_count": null,
   "metadata": {},
   "outputs": [],
   "source": [
    "# This function should build a supervised NB model\n",
    "def train(data:'DataFrame') -> None:\n",
    "    count = []"
   ]
  },
  {
   "cell_type": "code",
   "execution_count": null,
   "metadata": {},
   "outputs": [],
   "source": [
    "# This function should predict the class for an instance or a set of instances, based on a trained model \n",
    "def predict():\n",
    "    return"
   ]
  },
  {
   "cell_type": "code",
   "execution_count": null,
   "metadata": {},
   "outputs": [],
   "source": [
    "# This function should evaluate a set of predictions, in a supervised context \n",
    "def evaluate():\n",
    "    return"
   ]
  },
  {
   "cell_type": "code",
   "execution_count": null,
   "metadata": {},
   "outputs": [],
   "source": [
    "# This function should calculate the Information Gain of an attribute or a set of attribute, with respect to the class\n",
    "def info_gain():\n",
    "    return"
   ]
  },
  {
   "cell_type": "markdown",
   "metadata": {},
   "source": [
    "Questions (you may respond in a cell or cells below):\n",
    "\n",
    "1. The Naive Bayes classifiers can be seen to vary, in terms of their effectiveness on the given datasets (e.g. in terms of Accuracy). Consider the Information Gain of each attribute, relative to the class distribution — does this help to explain the classifiers’ behaviour? Identify any results that are particularly surprising, and explain why they occur.\n",
    "2. The Information Gain can be seen as a kind of correlation coefficient between a pair of attributes: when the gain is low, the attribute values are uncorrelated; when the gain is high, the attribute values are correlated. In supervised ML, we typically calculate the Infomation Gain between a single attribute and the class, but it can be calculated for any pair of attributes. Using the pair-wise IG as a proxy for attribute interdependence, in which cases are our NB assumptions violated? Describe any evidence (or indeed, lack of evidence) that this is has some effect on the effectiveness of the NB classifier.\n",
    "3. Since we have gone to all of the effort of calculating Infomation Gain, we might as well use that as a criterion for building a “Decision Stump” (1-R classifier). How does the effectiveness of this classifier compare to Naive Bayes? Identify one or more cases where the effectiveness is notably different, and explain why.\n",
    "4. Evaluating the model on the same data that we use to train the model is considered to be a major mistake in Machine Learning. Implement a hold–out or cross–validation evaluation strategy. How does your estimate of effectiveness change, compared to testing on the training data? Explain why. (The result might surprise you!)\n",
    "5. Implement one of the advanced smoothing regimes (add-k, Good-Turing). Does changing the smoothing regime (or indeed, not smoothing at all) affect the effectiveness of the Naive Bayes classifier? Explain why, or why not.\n",
    "6. Naive Bayes is said to elegantly handle missing attribute values. For the datasets with missing values, is there any evidence that the performance is different on the instances with missing values, compared to the instances where all of the values are present? Does it matter which, or how many values are missing? Would a imputation strategy have any effect on this?\n",
    "\n",
    "Don't forget that groups of 1 student should respond to question (1), and one other question of your choosing. Groups of 2 students should respond to question (1) and question (2), and two other questions of your choosing. Your responses should be about 150-250 words each."
   ]
  },
  {
   "cell_type": "code",
   "execution_count": null,
   "metadata": {},
   "outputs": [],
   "source": []
  }
 ],
 "metadata": {
  "kernelspec": {
   "display_name": "Python 3",
   "language": "python",
   "name": "python3"
  },
  "language_info": {
   "codemirror_mode": {
    "name": "ipython",
    "version": 3
   },
   "file_extension": ".py",
   "mimetype": "text/x-python",
   "name": "python",
   "nbconvert_exporter": "python",
   "pygments_lexer": "ipython3",
   "version": "3.6.8"
  }
 },
 "nbformat": 4,
 "nbformat_minor": 2
}
